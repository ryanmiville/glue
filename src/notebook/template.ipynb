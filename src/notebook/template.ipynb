{
 "cells": [
  {
   "cell_type": "code",
   "execution_count": null,
   "id": "2fe77138",
   "metadata": {},
   "outputs": [],
   "source": [
    "%stop_session"
   ]
  },
  {
   "cell_type": "markdown",
   "id": "9f056916",
   "metadata": {},
   "source": [
    "# Setup\n"
   ]
  },
  {
   "cell_type": "code",
   "execution_count": null,
   "id": "21c14331",
   "metadata": {},
   "outputs": [],
   "source": [
    "%iam_role IAM_ROLE_ARN\n",
    "%region us-east-1\n",
    "%glue_version 4.0\n",
    "%idle_timeout 120\n",
    "%number_of_workers 2\n",
    "%extra_jars \"s3://crawler-public/json/serde/json-serde.jar\"\n",
    "%spark_conf spark.sql.catalog.catalog.warehouse=s3://bucket/iceberg --conf spark.sql.extensions=org.apache.iceberg.spark.extensions.IcebergSparkSessionExtensions --conf spark.sql.catalog.catalog=org.apache.iceberg.spark.SparkCatalog --conf spark.sql.catalog.catalog.catalog-impl=org.apache.iceberg.aws.glue.GlueCatalog --conf spark.sql.catalog.catalog.io-impl=org.apache.iceberg.aws.s3.S3FileIO\n",
    "%%configure\n",
    "{\n",
    "    \"datalake-formats\": \"iceberg\"\n",
    "}\n",
    "\n"
   ]
  },
  {
   "cell_type": "code",
   "execution_count": null,
   "id": "7e4e2fea",
   "metadata": {},
   "outputs": [],
   "source": [
    "import org.apache.spark.sql._"
   ]
  }
 ],
 "metadata": {
  "kernelspec": {
   "display_name": "Glue Spark",
   "language": "scala",
   "name": "glue_spark"
  },
  "language_info": {
   "codemirror_mode": "text/x-scala",
   "mimetype": "text/x-scala",
   "name": "scala",
   "pygments_lexer": "scala"
  }
 },
 "nbformat": 4,
 "nbformat_minor": 5
}
