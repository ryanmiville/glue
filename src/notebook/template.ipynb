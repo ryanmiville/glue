{
 "cells": [
  {
   "cell_type": "code",
   "execution_count": null,
   "id": "21c14331",
   "metadata": {},
   "outputs": [],
   "source": [
    "%iam_role IAM_ROLE_ARN\n",
    "%region us-east-1\n",
    "%glue_version 4.0\n",
    "%number_of_workers 3\n",
    "%extra_jars \"s3://crawler-public/json/serde/json-serde.jar\"\n",
    "%%configure \n",
    "{\n",
    "  \"--conf\": \"spark.sql.extensions=org.apache.iceberg.spark.extensions.IcebergSparkSessionExtensions\",\n",
    "  \"--datalake-formats\": \"iceberg\",\n",
    "  \"--enable-glue-datacatalog\": \"true\",\n",
    "  \"--conf\": \"spark.driver.maxResultSize=2g\"\n",
    "}\n"
   ]
  },
  {
   "cell_type": "code",
   "execution_count": null,
   "id": "bd78b9d9",
   "metadata": {},
   "outputs": [],
   "source": [
    "import org.apache.spark.sql._\n",
    "import org.apache.spark.sql.functions._\n",
    "import com.amazonaws.services.glue.GlueContext\n",
    "import com.amazonaws.services.glue.util.JsonOptions\n"
   ]
  },
  {
   "cell_type": "code",
   "execution_count": null,
   "id": "7e4e2fea",
   "metadata": {},
   "outputs": [],
   "source": []
  }
 ],
 "metadata": {
  "kernelspec": {
   "display_name": "Glue Spark",
   "language": "scala",
   "name": "glue_spark"
  },
  "language_info": {
   "codemirror_mode": "text/x-scala",
   "mimetype": "text/x-scala",
   "name": "scala",
   "pygments_lexer": "scala"
  }
 },
 "nbformat": 4,
 "nbformat_minor": 5
}
